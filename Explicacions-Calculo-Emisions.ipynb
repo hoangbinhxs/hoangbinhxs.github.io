{
 "cells": [
  {
   "cell_type": "markdown",
   "id": "fc580fc3-4ae7-457e-9d97-7692022443c0",
   "metadata": {},
   "source": [
    "# Cálculo de emisións"
   ]
  },
  {
   "cell_type": "markdown",
   "id": "f14f3e24-5ae4-4c63-b247-d897a2e95304",
   "metadata": {},
   "source": [
    "Cálculo de emisións"
   ]
  },
  {
   "cell_type": "code",
   "execution_count": null,
   "id": "71e5a232-9348-4d69-a281-fbdc8dc4edcd",
   "metadata": {},
   "outputs": [],
   "source": [
    "v#!/usr/bin/env python\n",
    "\n",
    "# Cálculo de emisións\n",
    "\n",
    "# Variables\n",
    "KMS_DIARIOS = 0\n",
    "DIAS_LABORAIS_SEMANAIS = 0\n",
    "SEMANAS = 0\n",
    "\n",
    "# Cada medio de transporte ten o seu índice de emisións medio (gramos por km)\n",
    "# https://www.movilidad-idae.es/destacados/emisiones-de-co2-por-modos-de-transporte-motorizado\n",
    "EMISION_X_KM = 121\n",
    "\n",
    "cantidade_de_emisions = KMS_DIARIOS * DIAS_LABORAIS_SEMANAIS * SEMANAS * EMISION_X_KM\n",
    "print('O teu consumo é:', cantidade_de_emisions, 'gC02')\n",
    "\n"
   ]
  },
  {
   "cell_type": "code",
   "execution_count": 2,
   "id": "1878bf34-e592-4364-a7f7-f81d4f62e611",
   "metadata": {
    "tags": []
   },
   "outputs": [
    {
     "name": "stdout",
     "output_type": "stream",
     "text": [
      "O teu consumo é: 2904000 gC02\n"
     ]
    }
   ],
   "source": [
    "#!/usr/bin/env python\n",
    "\n",
    "# Cálculo de emisións\n",
    "\n",
    "# Variables\n",
    "KMS_DIARIOS = 100\n",
    "DIAS_LABORAIS_SEMANAIS = 5\n",
    "SEMANAS = 48\n",
    "\n",
    "# Cada medio de transporte ten o seu índice de emisións medio (gramos por km)\n",
    "# https://www.movilidad-idae.es/destacados/emisiones-de-co2-por-modos-de-transporte-motorizado\n",
    "EMISION_X_KM = 121\n",
    "\n",
    "cantidade_de_emisions = KMS_DIARIOS * DIAS_LABORAIS_SEMANAIS * SEMANAS * EMISION_X_KM\n",
    "print('O teu consumo é:', cantidade_de_emisions, 'gC02')"
   ]
  },
  {
   "cell_type": "code",
   "execution_count": 3,
   "id": "018892ed-bda5-4aaf-b6ef-f8c07ed251c2",
   "metadata": {
    "tags": []
   },
   "outputs": [
    {
     "name": "stdout",
     "output_type": "stream",
     "text": [
      "O teu consumo é: 290400 gC02\n"
     ]
    }
   ],
   "source": [
    "#!/usr/bin/env python\n",
    "\n",
    "# Cálculo de emisións\n",
    "\n",
    "# Variables\n",
    "KMS_DIARIOS = 20\n",
    "DIAS_LABORAIS_SEMANAIS = 3\n",
    "SEMANAS = 40\n",
    "\n",
    "# Cada medio de transporte ten o seu índice de emisións medio (gramos por km)\n",
    "# https://www.movilidad-idae.es/destacados/emisiones-de-co2-por-modos-de-transporte-motorizado\n",
    "EMISION_X_KM = 121\n",
    "\n",
    "cantidade_de_emisions = KMS_DIARIOS * DIAS_LABORAIS_SEMANAIS * SEMANAS * EMISION_X_KM\n",
    "print('O teu consumo é:', cantidade_de_emisions, 'gC02')"
   ]
  },
  {
   "cell_type": "code",
   "execution_count": 4,
   "id": "0d940f3c-a9d8-4085-bfb9-29c555b71530",
   "metadata": {
    "tags": []
   },
   "outputs": [
    {
     "name": "stdout",
     "output_type": "stream",
     "text": [
      "O teu consumo é: 72600 gC02\n"
     ]
    }
   ],
   "source": [
    "#!/usr/bin/env python\n",
    "\n",
    "# Cálculo de emisións\n",
    "\n",
    "# Variables\n",
    "KMS_DIARIOS = 5\n",
    "DIAS_LABORAIS_SEMANAIS = 5\n",
    "SEMANAS = 24\n",
    "\n",
    "# Cada medio de transporte ten o seu índice de emisións medio (gramos por km)\n",
    "# https://www.movilidad-idae.es/destacados/emisiones-de-co2-por-modos-de-transporte-motorizado\n",
    "EMISION_X_KM = 121\n",
    "\n",
    "cantidade_de_emisions = KMS_DIARIOS * DIAS_LABORAIS_SEMANAIS * SEMANAS * EMISION_X_KM\n",
    "print('O teu consumo é:', cantidade_de_emisions, 'gC02')"
   ]
  },
  {
   "cell_type": "code",
   "execution_count": null,
   "id": "74e1355b-fd55-4c52-8f7f-29b72c051e5d",
   "metadata": {},
   "outputs": [],
   "source": []
  }
 ],
 "metadata": {
  "kernelspec": {
   "display_name": "Python 3 (ipykernel)",
   "language": "python",
   "name": "python3"
  },
  "language_info": {
   "codemirror_mode": {
    "name": "ipython",
    "version": 3
   },
   "file_extension": ".py",
   "mimetype": "text/x-python",
   "name": "python",
   "nbconvert_exporter": "python",
   "pygments_lexer": "ipython3",
   "version": "3.8.18"
  }
 },
 "nbformat": 4,
 "nbformat_minor": 5
}
